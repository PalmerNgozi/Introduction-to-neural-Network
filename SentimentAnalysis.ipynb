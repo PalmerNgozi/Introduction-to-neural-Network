{
  "nbformat": 4,
  "nbformat_minor": 0,
  "metadata": {
    "colab": {
      "name": "Untitled3.ipynb",
      "provenance": [],
      "authorship_tag": "ABX9TyO2kDqDXPpgUTU2KLzFWyut"
    },
    "kernelspec": {
      "name": "python3",
      "display_name": "Python 3"
    },
    "language_info": {
      "name": "python"
    },
    "accelerator": "GPU"
  },
  "cells": [
    {
      "cell_type": "code",
      "execution_count": 23,
      "metadata": {
        "id": "cTgT5W6lot9K"
      },
      "outputs": [],
      "source": [
        "%tensorflow_version 2.x"
      ]
    },
    {
      "cell_type": "code",
      "source": [
        "import tensorflow as tf\n",
        "import numpy as np\n",
        "import os\n",
        "from keras.datasets import imdb\n",
        "from keras.preprocessing import sequence"
      ],
      "metadata": {
        "id": "ZCDy-2gmoxy0"
      },
      "execution_count": 24,
      "outputs": []
    },
    {
      "cell_type": "code",
      "source": [
        "vocabSize = 88584\n",
        "\n",
        "maxLen = 250\n",
        "batchSize = 64\n",
        "\n",
        "(train_data, train_labels), (test_data, test_labels) = imdb.load_data(num_words= vocabSize)"
      ],
      "metadata": {
        "id": "7mlWlXfHpCWI"
      },
      "execution_count": 25,
      "outputs": []
    },
    {
      "cell_type": "code",
      "source": [
        "train_data[0]"
      ],
      "metadata": {
        "id": "mYk95NXG0X6t"
      },
      "execution_count": null,
      "outputs": []
    },
    {
      "cell_type": "code",
      "source": [
        "#to make the review of the same length . i.e padding\n",
        "\n",
        "train_data = sequence.pad_sequences(train_data,maxLen)\n",
        "test_data = sequence.pad_sequences(test_data, maxLen)\n"
      ],
      "metadata": {
        "id": "4QgOQp8NM4mx"
      },
      "execution_count": 28,
      "outputs": []
    },
    {
      "cell_type": "code",
      "source": [
        "# creating the model \n",
        "model = tf.keras.Sequential([tf.keras.layers.Embedding(vocabSize, 32), tf.keras.layers.LSTM(32), tf.keras.layers.Dense(1,activation = \"sigmoid\")])"
      ],
      "metadata": {
        "id": "E6cVlw0PtC_V"
      },
      "execution_count": 29,
      "outputs": []
    },
    {
      "cell_type": "code",
      "source": [
        "model.summary()"
      ],
      "metadata": {
        "colab": {
          "base_uri": "https://localhost:8080/"
        },
        "id": "Gah5lfYuszw-",
        "outputId": "26615a31-928d-4356-8bf4-828048f01ad9"
      },
      "execution_count": 30,
      "outputs": [
        {
          "output_type": "stream",
          "name": "stdout",
          "text": [
            "Model: \"sequential_2\"\n",
            "_________________________________________________________________\n",
            " Layer (type)                Output Shape              Param #   \n",
            "=================================================================\n",
            " embedding_2 (Embedding)     (None, None, 32)          2834688   \n",
            "                                                                 \n",
            " lstm_2 (LSTM)               (None, 32)                8320      \n",
            "                                                                 \n",
            " dense_2 (Dense)             (None, 1)                 33        \n",
            "                                                                 \n",
            "=================================================================\n",
            "Total params: 2,843,041\n",
            "Trainable params: 2,843,041\n",
            "Non-trainable params: 0\n",
            "_________________________________________________________________\n"
          ]
        }
      ]
    },
    {
      "cell_type": "code",
      "source": [
        "#training the model \n",
        "model.compile(loss=\"binary_crossentropy\", optimizer= 'rmsprop', metrics=['acc'])\n",
        "\n",
        "history = model.fit(train_data, train_labels, epochs = 5, validation_split = 0.2)"
      ],
      "metadata": {
        "colab": {
          "base_uri": "https://localhost:8080/"
        },
        "id": "l_bzU7pywB3y",
        "outputId": "a6aeb29f-2ce0-4fc3-bb97-261c23373d01"
      },
      "execution_count": 58,
      "outputs": [
        {
          "output_type": "stream",
          "name": "stdout",
          "text": [
            "Epoch 1/5\n",
            "625/625 [==============================] - 36s 55ms/step - loss: 0.1854 - acc: 0.9337 - val_loss: 0.3360 - val_acc: 0.8846\n",
            "Epoch 2/5\n",
            "625/625 [==============================] - 33s 54ms/step - loss: 0.1555 - acc: 0.9434 - val_loss: 0.2890 - val_acc: 0.8986\n",
            "Epoch 3/5\n",
            "625/625 [==============================] - 34s 54ms/step - loss: 0.1313 - acc: 0.9545 - val_loss: 0.2964 - val_acc: 0.8900\n",
            "Epoch 4/5\n",
            "625/625 [==============================] - 34s 54ms/step - loss: 0.1137 - acc: 0.9615 - val_loss: 0.3405 - val_acc: 0.8914\n",
            "Epoch 5/5\n",
            "625/625 [==============================] - 34s 54ms/step - loss: 0.0985 - acc: 0.9665 - val_loss: 0.3593 - val_acc: 0.8826\n"
          ]
        }
      ]
    },
    {
      "cell_type": "code",
      "source": [
        "results = model.evaluate(test_data, test_labels)\n",
        "\n",
        "print(results)"
      ],
      "metadata": {
        "colab": {
          "base_uri": "https://localhost:8080/"
        },
        "id": "DvbWng2Rw0gW",
        "outputId": "2f2f937e-fa1e-45eb-b5a4-40f386d79ff1"
      },
      "execution_count": 59,
      "outputs": [
        {
          "output_type": "stream",
          "name": "stdout",
          "text": [
            "782/782 [==============================] - 13s 16ms/step - loss: 0.4620 - acc: 0.8469\n",
            "[0.4620412588119507, 0.8468800187110901]\n"
          ]
        }
      ]
    },
    {
      "cell_type": "code",
      "source": [
        "import keras.preprocessing\n",
        "# encode the text to the format the model can understand \n",
        "\n",
        "word_index = imdb.get_word_index()\n",
        "\n",
        "def encode_text(text) :\n",
        "  tokens =keras.preprocessing.text.text_to_word_sequence(text)\n",
        "  tokens = [word_index[word] if word in word_index else 0 for word in tokens]\n",
        "  return sequence.pad_sequences([tokens], maxLen)[0]\n"
      ],
      "metadata": {
        "id": "JuTq9uV_yAQ0"
      },
      "execution_count": 60,
      "outputs": []
    },
    {
      "cell_type": "code",
      "source": [
        "text = \"OMG that movie was just fabulous\"\n",
        "encoded = encode_text(text)\n",
        "print(encoded)"
      ],
      "metadata": {
        "colab": {
          "base_uri": "https://localhost:8080/"
        },
        "id": "aB3Rtifl3FEc",
        "outputId": "0d69d4a8-7660-4d33-c259-3cf14830ed4a"
      },
      "execution_count": 61,
      "outputs": [
        {
          "output_type": "stream",
          "name": "stdout",
          "text": [
            "[    0     0     0     0     0     0     0     0     0     0     0     0\n",
            "     0     0     0     0     0     0     0     0     0     0     0     0\n",
            "     0     0     0     0     0     0     0     0     0     0     0     0\n",
            "     0     0     0     0     0     0     0     0     0     0     0     0\n",
            "     0     0     0     0     0     0     0     0     0     0     0     0\n",
            "     0     0     0     0     0     0     0     0     0     0     0     0\n",
            "     0     0     0     0     0     0     0     0     0     0     0     0\n",
            "     0     0     0     0     0     0     0     0     0     0     0     0\n",
            "     0     0     0     0     0     0     0     0     0     0     0     0\n",
            "     0     0     0     0     0     0     0     0     0     0     0     0\n",
            "     0     0     0     0     0     0     0     0     0     0     0     0\n",
            "     0     0     0     0     0     0     0     0     0     0     0     0\n",
            "     0     0     0     0     0     0     0     0     0     0     0     0\n",
            "     0     0     0     0     0     0     0     0     0     0     0     0\n",
            "     0     0     0     0     0     0     0     0     0     0     0     0\n",
            "     0     0     0     0     0     0     0     0     0     0     0     0\n",
            "     0     0     0     0     0     0     0     0     0     0     0     0\n",
            "     0     0     0     0     0     0     0     0     0     0     0     0\n",
            "     0     0     0     0     0     0     0     0     0     0     0     0\n",
            "     0     0     0     0     0     0     0     0     0     0     0     0\n",
            "     0     0     0     0 11955    12    17    13    40  2723]\n"
          ]
        }
      ]
    },
    {
      "cell_type": "code",
      "source": [
        "# decode function go from integer to wrds\n",
        "reverse_word_index = {value:key for (key,value) in word_index.items()}\n",
        "\n",
        "def decode_int(integers):\n",
        "  pad =0\n",
        "  text=\"\"\n",
        "  for num in integers:\n",
        "    if num!=pad:\n",
        "      text +=  reverse_word_index[num] + \" \"\n",
        "\n",
        "  return text[:-1]\n",
        "\n",
        "print(decode_int(encoded))\n",
        "    \n",
        "  \n",
        "\n",
        "\n"
      ],
      "metadata": {
        "colab": {
          "base_uri": "https://localhost:8080/"
        },
        "id": "Udvech8x3QL7",
        "outputId": "a1577dad-fa84-4ab7-b12a-8f61a18abe0e"
      },
      "execution_count": 62,
      "outputs": [
        {
          "output_type": "stream",
          "name": "stdout",
          "text": [
            "omg that movie was just fabulous\n"
          ]
        }
      ]
    },
    {
      "cell_type": "code",
      "source": [
        "# making prediction\n",
        "\n",
        "def pred(text):\n",
        "  encoded_text= encode_text(text)\n",
        "  preds = np.zeros((1,250))\n",
        "  preds[0] = encoded_text\n",
        "  results = model.predict(preds)\n",
        "  print(results[0])\n",
        "\n",
        "pos_review = \"that just a fine piece of art the actors are amazing\"\n",
        "pred(pos_review)\n",
        "\n",
        "neg_review = \"i hated the movie so much and i would not watch it anymore \"\n",
        "pred(neg_review)"
      ],
      "metadata": {
        "colab": {
          "base_uri": "https://localhost:8080/"
        },
        "id": "p0BMc4Ht68eg",
        "outputId": "a7ab2e9d-8972-4649-ab03-3e77b5acf518"
      },
      "execution_count": 63,
      "outputs": [
        {
          "output_type": "stream",
          "name": "stdout",
          "text": [
            "[0.68634415]\n",
            "[0.9482574]\n"
          ]
        }
      ]
    },
    {
      "cell_type": "code",
      "source": [
        ""
      ],
      "metadata": {
        "id": "1QGifmJt8GcC"
      },
      "execution_count": null,
      "outputs": []
    }
  ]
}